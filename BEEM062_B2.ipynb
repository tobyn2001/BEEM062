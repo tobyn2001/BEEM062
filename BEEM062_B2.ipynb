{
 "cells": [
  {
   "cell_type": "code",
   "execution_count": 1,
   "id": "cc350991",
   "metadata": {},
   "outputs": [],
   "source": [
    "#Import the libraries required.\n",
    "import requests\n",
    "import json\n",
    "import pandas as pd\n",
    "from datetime import datetime \n",
    "import quandl\n",
    "import numpy as np\n",
    "import matplotlib.pyplot as plt"
   ]
  },
  {
   "cell_type": "markdown",
   "id": "99e0762b",
   "metadata": {},
   "source": [
    "### Extract the time series from Quandl API."
   ]
  },
  {
   "cell_type": "code",
   "execution_count": 2,
   "id": "d4af9034",
   "metadata": {},
   "outputs": [],
   "source": [
    "#Access to the quandl python library using my API key\n",
    "#Extract the dataset of Nvidia using WIKI resources.\n",
    "quandl.ApiConfig.api_key = \"AzKsaQu6EwrmivkQsCmu\"\n",
    "dataset_code = \"WIKI/NVDA\"\n",
    "\n",
    "#Create a new dataframe that contains the daily price of Nvidia from 1999 to 2018.\n",
    "###Notice that I set the end date to \"2018-03-27\" because WIKI stopped its service afterwards.\n",
    "###The free version of NASDAQ API key doesn't give access to many datasets, so we will use old data here.\n",
    "nvidia_table = quandl.get(dataset_code, end_date = \"2018-03-27\")\n",
    "nvidia_price = nvidia_table[[\"Adj. Close\"]].copy()\n",
    "nvidia_price.rename(columns = {\"Adj. Close\": \"Nvidia Price\"}, inplace = True)"
   ]
  },
  {
   "cell_type": "code",
   "execution_count": 3,
   "id": "59eb40e8",
   "metadata": {},
   "outputs": [
    {
     "data": {
      "text/html": [
       "<div>\n",
       "<style scoped>\n",
       "    .dataframe tbody tr th:only-of-type {\n",
       "        vertical-align: middle;\n",
       "    }\n",
       "\n",
       "    .dataframe tbody tr th {\n",
       "        vertical-align: top;\n",
       "    }\n",
       "\n",
       "    .dataframe thead th {\n",
       "        text-align: right;\n",
       "    }\n",
       "</style>\n",
       "<table border=\"1\" class=\"dataframe\">\n",
       "  <thead>\n",
       "    <tr style=\"text-align: right;\">\n",
       "      <th></th>\n",
       "      <th>Nvidia Price</th>\n",
       "    </tr>\n",
       "    <tr>\n",
       "      <th>Date</th>\n",
       "      <th></th>\n",
       "    </tr>\n",
       "  </thead>\n",
       "  <tbody>\n",
       "    <tr>\n",
       "      <th>1999-01-22</th>\n",
       "      <td>1.522529</td>\n",
       "    </tr>\n",
       "    <tr>\n",
       "      <th>1999-01-25</th>\n",
       "      <td>1.681818</td>\n",
       "    </tr>\n",
       "    <tr>\n",
       "      <th>1999-01-26</th>\n",
       "      <td>1.551139</td>\n",
       "    </tr>\n",
       "    <tr>\n",
       "      <th>1999-01-27</th>\n",
       "      <td>1.546499</td>\n",
       "    </tr>\n",
       "    <tr>\n",
       "      <th>1999-01-28</th>\n",
       "      <td>1.541860</td>\n",
       "    </tr>\n",
       "    <tr>\n",
       "      <th>...</th>\n",
       "      <td>...</td>\n",
       "    </tr>\n",
       "    <tr>\n",
       "      <th>2018-03-21</th>\n",
       "      <td>248.560000</td>\n",
       "    </tr>\n",
       "    <tr>\n",
       "      <th>2018-03-22</th>\n",
       "      <td>241.850000</td>\n",
       "    </tr>\n",
       "    <tr>\n",
       "      <th>2018-03-23</th>\n",
       "      <td>232.970000</td>\n",
       "    </tr>\n",
       "    <tr>\n",
       "      <th>2018-03-26</th>\n",
       "      <td>244.480000</td>\n",
       "    </tr>\n",
       "    <tr>\n",
       "      <th>2018-03-27</th>\n",
       "      <td>225.520000</td>\n",
       "    </tr>\n",
       "  </tbody>\n",
       "</table>\n",
       "<p>4825 rows × 1 columns</p>\n",
       "</div>"
      ],
      "text/plain": [
       "            Nvidia Price\n",
       "Date                    \n",
       "1999-01-22      1.522529\n",
       "1999-01-25      1.681818\n",
       "1999-01-26      1.551139\n",
       "1999-01-27      1.546499\n",
       "1999-01-28      1.541860\n",
       "...                  ...\n",
       "2018-03-21    248.560000\n",
       "2018-03-22    241.850000\n",
       "2018-03-23    232.970000\n",
       "2018-03-26    244.480000\n",
       "2018-03-27    225.520000\n",
       "\n",
       "[4825 rows x 1 columns]"
      ]
     },
     "execution_count": 3,
     "metadata": {},
     "output_type": "execute_result"
    }
   ],
   "source": [
    "nvidia_price"
   ]
  },
  {
   "cell_type": "markdown",
   "id": "a355eabd",
   "metadata": {},
   "source": [
    "### Extract the time series from CryptoCompare API."
   ]
  },
  {
   "cell_type": "code",
   "execution_count": 4,
   "id": "80bd8755",
   "metadata": {},
   "outputs": [],
   "source": [
    "#Set the cryptocurrency to BTC.\n",
    "#Extract the crypto dataset up to the same date as the Nvidia dataset.\n",
    "###2000 rows is the maximum we can get using the free API key.\n",
    "row = \"2000\"\n",
    "end_date = \"2018-03-27\"\n",
    "end_date_unix = str(datetime.strptime(end_date, \"%Y-%m-%d\").timestamp())\n",
    "crypto_type = \"BTC\"\n",
    "crypto_price = pd.DataFrame()\n",
    "cryptocompare_api_key = \"c15040c8c89e7906b2010e4d3b96b2b951f91e1ee716cf9bfe3e1f261c7a05e0\"\n",
    "\n",
    "#Extract the data from CryptoCompare API.\n",
    "#Normalise the data and change the time from unix to data format.\n",
    "cryptocompare_url = \"https://min-api.cryptocompare.com/data/histoday?fsym=\"+crypto_type+\"&tsym=USD&limit=\"+row+\"&api_key=\"+cryptocompare_api_key+\"&toTs=\"+end_date_unix\n",
    "crypto_data = requests.get(cryptocompare_url).json()\n",
    "crypto_table = pd.json_normalize(crypto_data, \"Data\")\n",
    "crypto_table[\"time\"] = pd.to_datetime(crypto_table[\"time\"], unit = \"s\")\n",
    "crypto_price = crypto_table[[\"time\", \"high\"]].copy()    \n",
    "crypto_price.rename(columns = {\"time\": \"Date\", \"high\": \"BTC Price\"}, inplace = True)\n",
    "crypto_price.set_index(\"Date\", inplace = True)"
   ]
  },
  {
   "cell_type": "code",
   "execution_count": 5,
   "id": "4019ed88",
   "metadata": {},
   "outputs": [
    {
     "data": {
      "text/html": [
       "<div>\n",
       "<style scoped>\n",
       "    .dataframe tbody tr th:only-of-type {\n",
       "        vertical-align: middle;\n",
       "    }\n",
       "\n",
       "    .dataframe tbody tr th {\n",
       "        vertical-align: top;\n",
       "    }\n",
       "\n",
       "    .dataframe thead th {\n",
       "        text-align: right;\n",
       "    }\n",
       "</style>\n",
       "<table border=\"1\" class=\"dataframe\">\n",
       "  <thead>\n",
       "    <tr style=\"text-align: right;\">\n",
       "      <th></th>\n",
       "      <th>BTC Price</th>\n",
       "    </tr>\n",
       "    <tr>\n",
       "      <th>Date</th>\n",
       "      <th></th>\n",
       "    </tr>\n",
       "  </thead>\n",
       "  <tbody>\n",
       "    <tr>\n",
       "      <th>2012-10-03</th>\n",
       "      <td>12.99</td>\n",
       "    </tr>\n",
       "    <tr>\n",
       "      <th>2012-10-04</th>\n",
       "      <td>13.09</td>\n",
       "    </tr>\n",
       "    <tr>\n",
       "      <th>2012-10-05</th>\n",
       "      <td>12.97</td>\n",
       "    </tr>\n",
       "    <tr>\n",
       "      <th>2012-10-06</th>\n",
       "      <td>12.86</td>\n",
       "    </tr>\n",
       "    <tr>\n",
       "      <th>2012-10-07</th>\n",
       "      <td>12.62</td>\n",
       "    </tr>\n",
       "    <tr>\n",
       "      <th>...</th>\n",
       "      <td>...</td>\n",
       "    </tr>\n",
       "    <tr>\n",
       "      <th>2018-03-22</th>\n",
       "      <td>9107.00</td>\n",
       "    </tr>\n",
       "    <tr>\n",
       "      <th>2018-03-23</th>\n",
       "      <td>8935.88</td>\n",
       "    </tr>\n",
       "    <tr>\n",
       "      <th>2018-03-24</th>\n",
       "      <td>9036.23</td>\n",
       "    </tr>\n",
       "    <tr>\n",
       "      <th>2018-03-25</th>\n",
       "      <td>8690.36</td>\n",
       "    </tr>\n",
       "    <tr>\n",
       "      <th>2018-03-26</th>\n",
       "      <td>8521.04</td>\n",
       "    </tr>\n",
       "  </tbody>\n",
       "</table>\n",
       "<p>2001 rows × 1 columns</p>\n",
       "</div>"
      ],
      "text/plain": [
       "            BTC Price\n",
       "Date                 \n",
       "2012-10-03      12.99\n",
       "2012-10-04      13.09\n",
       "2012-10-05      12.97\n",
       "2012-10-06      12.86\n",
       "2012-10-07      12.62\n",
       "...               ...\n",
       "2018-03-22    9107.00\n",
       "2018-03-23    8935.88\n",
       "2018-03-24    9036.23\n",
       "2018-03-25    8690.36\n",
       "2018-03-26    8521.04\n",
       "\n",
       "[2001 rows x 1 columns]"
      ]
     },
     "execution_count": 5,
     "metadata": {},
     "output_type": "execute_result"
    }
   ],
   "source": [
    "crypto_price"
   ]
  },
  {
   "cell_type": "markdown",
   "id": "0820f0c8",
   "metadata": {},
   "source": [
    "### Merge two datasets with matching dates."
   ]
  },
  {
   "cell_type": "code",
   "execution_count": 6,
   "id": "cf99465b",
   "metadata": {},
   "outputs": [],
   "source": [
    "joint_data = nvidia_price.join(crypto_price, how = \"inner\")\n",
    "\n",
    "#Our sample data will be the last 200 rows from the joint dataset.\n",
    "###These data have greater significance for study purposes due to the closer timeline to present time.\n",
    "###We use 200 rows to ensure that there is a sufficient size of data for time series analysis.\n",
    "###Good Trade-off between bias and variance, preventing the occurance of overfitting.\n",
    "sample_data = joint_data.tail(200)"
   ]
  },
  {
   "cell_type": "code",
   "execution_count": 7,
   "id": "48e2297f",
   "metadata": {},
   "outputs": [
    {
     "data": {
      "text/html": [
       "<div>\n",
       "<style scoped>\n",
       "    .dataframe tbody tr th:only-of-type {\n",
       "        vertical-align: middle;\n",
       "    }\n",
       "\n",
       "    .dataframe tbody tr th {\n",
       "        vertical-align: top;\n",
       "    }\n",
       "\n",
       "    .dataframe thead th {\n",
       "        text-align: right;\n",
       "    }\n",
       "</style>\n",
       "<table border=\"1\" class=\"dataframe\">\n",
       "  <thead>\n",
       "    <tr style=\"text-align: right;\">\n",
       "      <th></th>\n",
       "      <th>Nvidia Price</th>\n",
       "      <th>BTC Price</th>\n",
       "    </tr>\n",
       "    <tr>\n",
       "      <th>Date</th>\n",
       "      <th></th>\n",
       "      <th></th>\n",
       "    </tr>\n",
       "  </thead>\n",
       "  <tbody>\n",
       "    <tr>\n",
       "      <th>2017-06-08</th>\n",
       "      <td>159.814322</td>\n",
       "      <td>2808.41</td>\n",
       "    </tr>\n",
       "    <tr>\n",
       "      <th>2017-06-09</th>\n",
       "      <td>149.471233</td>\n",
       "      <td>2852.07</td>\n",
       "    </tr>\n",
       "    <tr>\n",
       "      <th>2017-06-12</th>\n",
       "      <td>149.840914</td>\n",
       "      <td>2985.06</td>\n",
       "    </tr>\n",
       "    <tr>\n",
       "      <th>2017-06-13</th>\n",
       "      <td>151.269683</td>\n",
       "      <td>2784.77</td>\n",
       "    </tr>\n",
       "    <tr>\n",
       "      <th>2017-06-14</th>\n",
       "      <td>151.589408</td>\n",
       "      <td>2803.72</td>\n",
       "    </tr>\n",
       "    <tr>\n",
       "      <th>...</th>\n",
       "      <td>...</td>\n",
       "      <td>...</td>\n",
       "    </tr>\n",
       "    <tr>\n",
       "      <th>2018-03-20</th>\n",
       "      <td>249.580000</td>\n",
       "      <td>9056.23</td>\n",
       "    </tr>\n",
       "    <tr>\n",
       "      <th>2018-03-21</th>\n",
       "      <td>248.560000</td>\n",
       "      <td>9184.51</td>\n",
       "    </tr>\n",
       "    <tr>\n",
       "      <th>2018-03-22</th>\n",
       "      <td>241.850000</td>\n",
       "      <td>9107.00</td>\n",
       "    </tr>\n",
       "    <tr>\n",
       "      <th>2018-03-23</th>\n",
       "      <td>232.970000</td>\n",
       "      <td>8935.88</td>\n",
       "    </tr>\n",
       "    <tr>\n",
       "      <th>2018-03-26</th>\n",
       "      <td>244.480000</td>\n",
       "      <td>8521.04</td>\n",
       "    </tr>\n",
       "  </tbody>\n",
       "</table>\n",
       "<p>200 rows × 2 columns</p>\n",
       "</div>"
      ],
      "text/plain": [
       "            Nvidia Price  BTC Price\n",
       "Date                               \n",
       "2017-06-08    159.814322    2808.41\n",
       "2017-06-09    149.471233    2852.07\n",
       "2017-06-12    149.840914    2985.06\n",
       "2017-06-13    151.269683    2784.77\n",
       "2017-06-14    151.589408    2803.72\n",
       "...                  ...        ...\n",
       "2018-03-20    249.580000    9056.23\n",
       "2018-03-21    248.560000    9184.51\n",
       "2018-03-22    241.850000    9107.00\n",
       "2018-03-23    232.970000    8935.88\n",
       "2018-03-26    244.480000    8521.04\n",
       "\n",
       "[200 rows x 2 columns]"
      ]
     },
     "execution_count": 7,
     "metadata": {},
     "output_type": "execute_result"
    }
   ],
   "source": [
    "sample_data"
   ]
  },
  {
   "cell_type": "code",
   "execution_count": 8,
   "id": "127a2b0d",
   "metadata": {},
   "outputs": [],
   "source": [
    "#The prices for Nvidia and BTC are stored as variable x_t and y_t respectively.\n",
    "x_t = sample_data[\"Nvidia Price\"].round(2).tolist()\n",
    "y_t = sample_data[\"BTC Price\"].tolist()"
   ]
  },
  {
   "cell_type": "markdown",
   "id": "c1414148",
   "metadata": {},
   "source": [
    "### Method 1: standard OLS formulae\n"
   ]
  },
  {
   "cell_type": "code",
   "execution_count": 9,
   "id": "1f192efa",
   "metadata": {},
   "outputs": [],
   "source": [
    "#Find the estimates, alpha and beta, using the OLS formula. \n",
    "#Find the predicted value of y_t.\n",
    "#Find the loss function.\n",
    "ols_beta = ((np.multiply(y_t, x_t)).mean() - np.mean(x_t) * np.mean(y_t)) / ((np.multiply(x_t, x_t)).mean() - np.mean(x_t) * np.mean(x_t))\n",
    "ols_alpha = np.mean(y_t) - ols_beta * np.mean(x_t)\n",
    "ols_y_hat = ols_alpha + np.multiply(ols_beta, x_t) \n",
    "ols_L = np.sum(np.multiply(y_t - ols_y_hat, y_t - ols_y_hat)) "
   ]
  },
  {
   "cell_type": "markdown",
   "id": "509e2067",
   "metadata": {},
   "source": [
    "### Method 2: Gradient Descent (GD) Algorithm"
   ]
  },
  {
   "cell_type": "markdown",
   "id": "d96a4f19",
   "metadata": {},
   "source": [
    "Firstly, we need to normalise $x_{t}$ and $y_{t}$ to prevent the overflow issue. This happens when the gradient descent model becomes unstable when the variables have excessively large gradients. \n",
    "\n",
    "The normalisation formula is shown as below:\n",
    "\n",
    "$$\n",
    "\\hat{x_{t}} = \\frac {(x_{t} - \\overline{x})} {\\sigma_{x}}\n",
    "$$\n",
    "\n",
    "- $\\hat{x_{t}}$ is the normalised $x_{t}$\n",
    "- $\\overline{x}$ is the mean of $x_{t}$\n",
    "- $\\sigma_{x}$ is the standard deviation of $x_{t}$\n",
    "\n",
    "$$\n",
    "\\hat{y_{t}} = \\frac {(y_{t} - \\overline{y})} {\\sigma_{y}}\n",
    "$$\n",
    "\n",
    "- $\\hat{y_{t}}$ is the normalised $y_{t}$\n",
    "- $\\overline{y}$ is the mean of $y_{t}$\n",
    "- $\\sigma_{y}$ is the standard deviation of $y_{t}$"
   ]
  },
  {
   "cell_type": "code",
   "execution_count": 10,
   "id": "bbc21987",
   "metadata": {},
   "outputs": [],
   "source": [
    "#Normalise x_t and y_t.\n",
    "norm_x_t = (x_t - np.mean(x_t)) / np.std(x_t)\n",
    "norm_y_t = (y_t - np.mean(y_t)) / np.std(y_t)"
   ]
  },
  {
   "cell_type": "code",
   "execution_count": 11,
   "id": "897a74e9",
   "metadata": {},
   "outputs": [],
   "source": [
    "#This function takes in the normalised x_t and y_t and calculate the mean square error of the predicted y.\n",
    "def cal_cost(norm_gd_alpha, norm_gd_beta, norm_x_t, norm_y_t):\n",
    "    n = len(norm_y_t)\n",
    "    y_hat = norm_gd_alpha + np.multiply(norm_gd_beta, norm_x_t)\n",
    "    mse = (1 / (2 * n)) * np.sum(np.square(y_hat - norm_y_t))\n",
    "    return mse\n",
    "\n",
    "#Set iterations, learning rate, initial alpha and beta for our gradient descent model to run.\n",
    "###The following values are adjusted by trial and error.\n",
    "###500 iterations are the max.\n",
    "iterations = 500\n",
    "learning_rate = 0.00425\n",
    "norm_gd_alpha = 0\n",
    "norm_gd_beta = 0\n",
    "n = len(y_t)\n",
    "\n",
    "#Define the history of variables to record the values per iteration.\n",
    "gd_alpha_history = np.zeros((iterations, 1))\n",
    "gd_beta_history = np.zeros((iterations, 1))\n",
    "gd_loss_history = np.zeros((iterations, 1))\n",
    "\n",
    "#For loop to repeat process.\n",
    "for i in range(iterations):\n",
    "    \n",
    "    #Record the predicted y value and white noise error.\n",
    "    y_hat = norm_gd_alpha + np.multiply(norm_gd_beta, norm_x_t) \n",
    "    white_noise_error = norm_y_t - y_hat\n",
    "    \n",
    "    #Update the gradient of variables.\n",
    "    gd_alpha_gradient = -(1 / n) * np.sum(white_noise_error) * learning_rate\n",
    "    gd_beta_gradient = -(1 / n) * np.sum(np.multiply(white_noise_error, norm_x_t)) * learning_rate\n",
    "    norm_gd_alpha = norm_gd_alpha - gd_alpha_gradient\n",
    "    norm_gd_beta = norm_gd_beta - gd_beta_gradient\n",
    "    \n",
    "    #Store the updated variables per iteration.\n",
    "    gd_alpha_history[i] = norm_gd_alpha\n",
    "    gd_beta_history[i] = norm_gd_beta\n",
    "    gd_loss_history[i] = cal_cost(norm_gd_alpha, norm_gd_beta, norm_x_t, norm_y_t)"
   ]
  },
  {
   "cell_type": "markdown",
   "id": "f6b04ffc",
   "metadata": {},
   "source": [
    "### Plot the graphs for each variable during GD process."
   ]
  },
  {
   "cell_type": "code",
   "execution_count": 12,
   "id": "fd6c8480",
   "metadata": {
    "scrolled": true
   },
   "outputs": [
    {
     "data": {
      "image/png": "[encoded data removed]",
      "text/plain": [
       "<Figure size 1800x500 with 3 Axes>"
      ]
     },
     "metadata": {},
     "output_type": "display_data"
    }
   ],
   "source": [
    "plt.figure(figsize=(18, 5))\n",
    "\n",
    "#Alpha plot\n",
    "plt.subplot(1, 3, 1)  \n",
    "plt.plot(gd_alpha_history, label = \"Alpha\")\n",
    "plt.title(\"Alpha Updates\")\n",
    "plt.xlabel(\"Iterations\")\n",
    "plt.ylabel(\"Alpha\")\n",
    "plt.legend()\n",
    "\n",
    "#Beta plot\n",
    "plt.subplot(1, 3, 2)  \n",
    "plt.plot(gd_beta_history, label = \"Beta\")\n",
    "plt.title(\"Beta Updates\")\n",
    "plt.xlabel(\"Iterations\")\n",
    "plt.ylabel(\"Beta\")\n",
    "plt.legend()\n",
    "\n",
    "#Loss function plot\n",
    "plt.subplot(1, 3, 3)\n",
    "plt.plot(gd_alpha_history, label = \"Loss Function\")\n",
    "plt.title(\"Loss Function Updates\")\n",
    "plt.xlabel(\"Iterations\")\n",
    "plt.ylabel(\"Loss Function\")\n",
    "plt.legend()\n",
    "\n",
    "plt.tight_layout()\n",
    "plt.show()"
   ]
  },
  {
   "cell_type": "markdown",
   "id": "c48c9367",
   "metadata": {},
   "source": [
    "These three graphs illustrate the changes in the values for $\\alpha$, $\\beta$ and loss function over iterations using the gradient descent method. By observation, all variables converge to constant after 500 iterations. This means that our initial values and parameters are safe to use.\n",
    "\n",
    "The initial normalised alpha and beta are set to 0 as a common practise before the optimisation process. By trial and error, the learning rate is set to 0.00425. (More decimal places are always more accurate, in here we just keep it as 5 decimal places of accuracy). "
   ]
  },
  {
   "cell_type": "markdown",
   "id": "1e33dc19",
   "metadata": {},
   "source": [
    "Since our $\\alpha$, $\\beta$ and loss function are normalised, the next step is to denormalise these variables.\n",
    "\n",
    "This can be performed by the denormalisation formula of:\n",
    "\n",
    "$$\n",
    "\\beta = \\hat{\\beta} \\times \\frac {\\sigma_{y}} {\\sigma_{x}}\n",
    "$$\n",
    "\n",
    "- $\\hat{\\beta}$ is the normalised $x_{t}$\n",
    "- $\\sigma_{y}$ is the standard deviation of $y_{t}$\n",
    "- $\\sigma_{x}$ is the standard deviation of $x_{t}$\n",
    "\n",
    "$$\n",
    "\\alpha = \\overline{y_{t}} - \\beta \\times \\overline{x_{t}}\n",
    "$$\n",
    "\n",
    "- $\\overline{y_{t}}$ is the mean of $y_{t}$\n",
    "- $\\overline{x_{t}}$ is the meann of $x_{t}$"
   ]
  },
  {
   "cell_type": "code",
   "execution_count": 13,
   "id": "845be271",
   "metadata": {},
   "outputs": [],
   "source": [
    "#Denormalise alpha and beta.\n",
    "#Find the predicted value of y_t.\n",
    "#Find the loss function.\n",
    "gd_beta = norm_gd_beta * (np.std(y_t) / np.std(x_t))\n",
    "gd_alpha = np.mean(y_t) - gd_beta * np.mean(x_t)\n",
    "gd_y_hat = gd_alpha + np.multiply(gd_beta, x_t) \n",
    "gd_L = np.sum(np.multiply(y_t - gd_y_hat, y_t - gd_y_hat))"
   ]
  },
  {
   "cell_type": "markdown",
   "id": "9bc6fd6e",
   "metadata": {},
   "source": [
    "### Estimates of $\\alpha$, $\\beta$ and loss function from 2 methods."
   ]
  },
  {
   "cell_type": "code",
   "execution_count": 14,
   "id": "98935511",
   "metadata": {},
   "outputs": [
    {
     "name": "stdout",
     "output_type": "stream",
     "text": [
      "Estimates from standard OLS formulae: \n",
      "Alpha = -10357.48 \n",
      "Beta = 92.02 \n",
      "Loss function = 2463424982.36\n"
     ]
    }
   ],
   "source": [
    "print(\"Estimates from standard OLS formulae:\",\n",
    "      \"\\nAlpha =\", ols_alpha.round(2), \n",
    "      \"\\nBeta =\", ols_beta.round(2), \n",
    "      \"\\nLoss function =\", ols_L.round(2))"
   ]
  },
  {
   "cell_type": "code",
   "execution_count": 15,
   "id": "5ac8ea96",
   "metadata": {},
   "outputs": [
    {
     "name": "stdout",
     "output_type": "stream",
     "text": [
      "Estimates from gradient descent algorithm: \n",
      "Alpha = -8222.6 \n",
      "Beta = 81.08 \n",
      "Loss function = 2487187946.26\n"
     ]
    }
   ],
   "source": [
    "print(\"Estimates from gradient descent algorithm:\",\n",
    "      \"\\nAlpha =\", gd_alpha.round(2), \n",
    "      \"\\nBeta =\", gd_beta.round(2), \n",
    "      \"\\nLoss function =\", gd_L.round(2))"
   ]
  },
  {
   "cell_type": "markdown",
   "id": "a6a4eb40",
   "metadata": {},
   "source": [
    "The loss function for OLS regression is 2.46*10^8, while it is 2.49*10^8 using the gradient descent algorithm. This might suggest that the standard formula might be slightly more accurate than the machine learning approach. Therefore, the standard OLS formulae stands out as a better option for our time series analysis."
   ]
  },
  {
   "cell_type": "markdown",
   "id": "468fff5e",
   "metadata": {},
   "source": [
    "### The convergence challenge"
   ]
  },
  {
   "cell_type": "markdown",
   "id": "c9e9f03f",
   "metadata": {},
   "source": [
    "When conducting the real-world finanical analysis, it is very common to encounter the overflow issue, this is when the gradient descent model fails to converge to optimise the parameters. Despite the relationship between the prices of BTC and Nvidia, driven by the correlation between the power of GPU (Graphics Processing Units) and blockchain mining speed, the market's complexity and volatility introduce noise into our OLS regression model. Besides, the increased maturity and substantial growth in cryptocurrency and Nvidia development in recent years has made our model more susceptible to outliers influenced by external factors.\n",
    "\n",
    "Normalisation is a solution to address the convergence challenge. By normalising the input features, such as lists of $x_t$ and $y_t$ values, the method of gradient descent converges more rapidly, maintaining the numerical stability against overflow or underflow during the optimisation process."
   ]
  }
 ],
 "metadata": {
  "kernelspec": {
   "display_name": "Python 3 (ipykernel)",
   "language": "python",
   "name": "python3"
  },
  "language_info": {
   "codemirror_mode": {
    "name": "ipython",
    "version": 3
   },
   "file_extension": ".py",
   "mimetype": "text/x-python",
   "name": "python",
   "nbconvert_exporter": "python",
   "pygments_lexer": "ipython3",
   "version": "3.11.5"
  }
 },
 "nbformat": 4,
 "nbformat_minor": 5
}
